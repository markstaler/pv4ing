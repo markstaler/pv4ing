{
 "cells": [
  {
   "cell_type": "markdown",
   "metadata": {},
   "source": [
    "# Prüfung CAS Energie digital\n",
    "\n",
    "Die Prüfung ist am 23.11. von 9:00 bis 10:00. Sie erfolgt über MS Teams mit eingeschalteter Kamera und ausgeschaltetem Mikro.\n",
    "\n",
    "Die Prüfungsfragen werden um 8:55 als pdf über E-Mail versendet. Die Prüfung wird auf ein Papier von Hand geschrieben und fotografiert (Mobil) und per E-Mail an markus.markstaler@ost.ch versendet bis spätestens 10:10.\n",
    "Aufgabenstellung muss nicht abgeschrieben werden, sondern nur der Lösungsweg und die Antwort (wie üblich).\n",
    "\n",
    "Stoffumfang:\n",
    "•\tManuskript Kapitel 1, 3, 7\n",
    "•\tInternet-Technologie 1 und 2 (beide Kurstage)\n",
    "•\tData Analytics 1 und 2 (beide Kurstage)\n",
    "\n",
    "An der Prüfung ist **erlaubt**:\n",
    " - alle Unterlagen und Notizen\n",
    " - PC mit Unterlagen als pdf\n",
    " \n",
    " ## Link zu Video-Dateien\n",
    "Zur lokalen Ablage der Video-Dateien kann folgende Datenquelle benutzt werden. Link für Dateimanager (nicht Browser):\n",
    "\\\\\\fs04.ost.ch\\ies\\06_MAS\\15_Energie_digital\\2020\\sharedDriveOnlineLectures\n",
    "\n",
    "## Fragen-Anworten"
   ]
  },
  {
   "cell_type": "markdown",
   "metadata": {},
   "source": [
    "Wie gross muss eine optimal ausgerichtete PV-Anlage sein, um den Jahresstrombedarf eines EFH von 5‘000 kWh zu produzieren, bei einem spezifischen Ertrag von 950 kWh/kWp? Wie hoch sind die Stromgestehungskosten, wenn die Anlage über 30 Jahre amortisiert wird und 2'600 CHF/kWp kostet? Kapitalzins ist 3 %. "
   ]
  },
  {
   "cell_type": "code",
   "execution_count": 3,
   "metadata": {},
   "outputs": [
    {
     "name": "stdout",
     "output_type": "stream",
     "text": [
      "Die grösse der PV-Anlage ist 5.26 kW\n"
     ]
    }
   ],
   "source": [
    "# a)\n",
    "W = 5000 # [kWh/a] Jahresstrombedarf\n",
    "Y = 950 # [kWh/kW] Yield\n",
    "\n",
    "P = W/Y # [kW] Nennleistung\n",
    "print('Die grösse der PV-Anlage ist {0:0.2f} kW'.format(P)) # Grösse PV-Anlage als Leistung mit kW anstatt Fläche mit m2\n"
   ]
  },
  {
   "cell_type": "code",
   "execution_count": 5,
   "metadata": {},
   "outputs": [
    {
     "name": "stdout",
     "output_type": "stream",
     "text": [
      "Die Stromgestehlungskosten sind 0.140 CHF/kWh\n"
     ]
    }
   ],
   "source": [
    "# b)\n",
    "C0 = 2600 # [CHF/kW]\n",
    "n = 30   # [Jahre] Amortisation\n",
    "i = 0.03 # [1] Zins\n",
    "\n",
    "Cstr = C0/Y*(1+i)**n *i /((1+i)**n-1) \n",
    "print('Die Stromgestehlungskosten sind {0:0.3f} CHF/kWh'.format(Cstr)) \n"
   ]
  },
  {
   "cell_type": "code",
   "execution_count": null,
   "metadata": {},
   "outputs": [],
   "source": []
  }
 ],
 "metadata": {
  "kernelspec": {
   "display_name": "Python 3",
   "language": "python",
   "name": "python3"
  },
  "language_info": {
   "codemirror_mode": {
    "name": "ipython",
    "version": 3
   },
   "file_extension": ".py",
   "mimetype": "text/x-python",
   "name": "python",
   "nbconvert_exporter": "python",
   "pygments_lexer": "ipython3",
   "version": "3.8.3"
  }
 },
 "nbformat": 4,
 "nbformat_minor": 4
}
